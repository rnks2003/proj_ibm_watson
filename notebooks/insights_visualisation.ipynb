{
 "cells": [
  {
   "cell_type": "code",
   "execution_count": null,
   "metadata": {},
   "outputs": [],
   "source": [
    "import pandas as pd\n",
    "import matplotlib.pyplot as plt"
   ]
  },
  {
   "cell_type": "code",
   "execution_count": null,
   "metadata": {},
   "outputs": [],
   "source": [
    "# Load analyzed data\n",
    "data = pd.read_csv(\"../data/cleaned/analyzed_sample.csv\")"
   ]
  },
  {
   "cell_type": "code",
   "execution_count": null,
   "metadata": {},
   "outputs": [],
   "source": [
    "# Plot sentiment distribution\n",
    "sentiment_counts = data[\"sentiment\"].value_counts()\n",
    "sentiment_counts.plot(kind=\"bar\", title=\"Sentiment Distribution\", color=[\"green\", \"red\", \"blue\"])\n",
    "plt.xlabel(\"Sentiment\")\n",
    "plt.ylabel(\"Count\")\n",
    "plt.show()"
   ]
  },
  {
   "cell_type": "code",
   "execution_count": null,
   "metadata": {},
   "outputs": [],
   "source": [
    "# Plot average emotion scores\n",
    "emotion_columns = [\"anger\", \"joy\", \"sadness\", \"fear\", \"disgust\"]\n",
    "average_emotions = data[emotion_columns].mean()\n",
    "average_emotions.plot(kind=\"bar\", title=\"Average Emotion Scores\", color=\"orange\")\n",
    "plt.ylabel(\"Average Score\")\n",
    "plt.show()"
   ]
  }
 ],
 "metadata": {
  "kernelspec": {
   "display_name": "ibm_watson",
   "language": "python",
   "name": "python3"
  },
  "language_info": {
   "name": "python",
   "version": "3.9.21"
  }
 },
 "nbformat": 4,
 "nbformat_minor": 2
}
